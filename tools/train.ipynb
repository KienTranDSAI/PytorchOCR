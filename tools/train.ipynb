{
 "cells": [
  {
   "cell_type": "code",
   "execution_count": 1,
   "metadata": {},
   "outputs": [],
   "source": [
    "import sys\n",
    "sys.path.append(\"/raid/project_drive/CV/ocr/kientdt/PaddleOCR2Pytorch\")\n"
   ]
  },
  {
   "cell_type": "code",
   "execution_count": 64,
   "metadata": {},
   "outputs": [],
   "source": [
    "from program import *\n",
    "from pytorchocr.data import build_dataloader, set_signal_handlers\n",
    "import random\n",
    "import cv2\n",
    "import numpy as np\n",
    "import torch\n",
    "import matplotlib.pyplot as plt\n",
    "from pytorchocr.postprocess import build_post_process\n",
    "from pytorchocr.modeling.architectures import build_model\n",
    "from pytorchocr.losses import build_loss\n",
    "from pytorchocr.optimizer import build_optimizer\n",
    "from pytorchocr.utils.utility import *\n"
   ]
  },
  {
   "cell_type": "code",
   "execution_count": 12,
   "metadata": {},
   "outputs": [],
   "source": [
    "def set_seed(seed=1024):\n",
    "    random.seed(seed)\n",
    "    np.random.seed(seed)\n",
    "def preprocess(is_train=False):\n",
    "    FLAGS = {\n",
    "    'profiler_options': None,\n",
    "    'config': \"/raid/kientdt/shared_drive_cv/ocr/kientdt/PaddleOCR/configs/det/ch_PP-OCRv3/vi_PP-OCRv3_det_student_data_v1.yml\",\n",
    "    'opt': {'Global.use_gpu': True, 'Global.epoch_num': 100}\n",
    "}\n",
    "\n",
    "    profiler_options = FLAGS.get('profiler_options', None)\n",
    "    config = load_config(FLAGS['config'])\n",
    "    config = merge_config(config, FLAGS['opt'])\n",
    "    profile_dic = {\"profiler_options\": FLAGS['profiler_options']}\n",
    "    config = merge_config(config, profile_dic)\n",
    "\n",
    "    if is_train:\n",
    "        # save_config\n",
    "        save_model_dir = config[\"Global\"][\"save_model_dir\"]\n",
    "        os.makedirs(save_model_dir, exist_ok=True)\n",
    "        with open(os.path.join(save_model_dir, \"config.yml\"), \"w\") as f:\n",
    "            yaml.dump(dict(config), f, default_flow_style=False, sort_keys=False)\n",
    "        log_file = \"{}/train.log\".format(save_model_dir)\n",
    "    else:\n",
    "        log_file = None\n",
    "    use_gpu = config['Global']['use_gpu']\n",
    "    alg = config[\"Architecture\"][\"algorithm\"]\n",
    "    device = \"cuda:2\" if use_gpu else \"cpu\"\n",
    "    check_device(use_gpu)\n",
    "\n",
    "    # device = torch.cuda.set_device(device)\n",
    "\n",
    "\n",
    "\n",
    "    return config, device"
   ]
  },
  {
   "cell_type": "code",
   "execution_count": 13,
   "metadata": {},
   "outputs": [
    {
     "data": {
      "text/plain": [
       "'cuda:2'"
      ]
     },
     "execution_count": 13,
     "metadata": {},
     "output_type": "execute_result"
    }
   ],
   "source": [
    "config, device = preprocess(is_train = True)\n",
    "device"
   ]
  },
  {
   "cell_type": "code",
   "execution_count": 14,
   "metadata": {},
   "outputs": [],
   "source": [
    "global_config = config[\"Global\"]\n",
    "set_signal_handlers()\n",
    "seed = config[\"Global\"][\"seed\"] if \"seed\" in config[\"Global\"] else 1024\n",
    "set_seed(seed)\n",
    "train_dataloader = build_dataloader(config, \"Train\", device, seed)\n",
    "if config[\"Eval\"]:\n",
    "    valid_dataloader = build_dataloader(config, \"Eval\", device, seed)\n"
   ]
  },
  {
   "cell_type": "code",
   "execution_count": 17,
   "metadata": {},
   "outputs": [],
   "source": [
    "for batch in train_dataloader:\n",
    "    break"
   ]
  },
  {
   "cell_type": "code",
   "execution_count": 8,
   "metadata": {},
   "outputs": [],
   "source": [
    "# plt.imshow(batch[0][35].numpy().transpose(1, 2, 0))"
   ]
  },
  {
   "cell_type": "code",
   "execution_count": 15,
   "metadata": {},
   "outputs": [],
   "source": [
    "step_pre_epoch = len(train_dataloader)\n",
    "post_process_class = build_post_process(config[\"PostProcess\"], global_config)\n"
   ]
  },
  {
   "cell_type": "code",
   "execution_count": 16,
   "metadata": {},
   "outputs": [],
   "source": [
    "model = build_model(config[\"Architecture\"])\n",
    "loss_class = build_loss(config[\"Loss\"])\n",
    "optimizer, lr_scheduler = build_optimizer(\n",
    "        config[\"Optimizer\"],\n",
    "        epochs=config[\"Global\"][\"epoch_num\"],\n",
    "        step_each_epoch=len(train_dataloader),\n",
    "        model=model,\n",
    "    )"
   ]
  },
  {
   "cell_type": "code",
   "execution_count": 17,
   "metadata": {},
   "outputs": [
    {
     "name": "stderr",
     "output_type": "stream",
     "text": [
      "Training Progress: 100%|██████████| 125/125 [02:27<00:00,  1.18s/it]\n"
     ]
    }
   ],
   "source": [
    "# for idx, batch in enumerate(train_dataloader):\n",
    "#     model.train()\n",
    "#     preds = model(batch[0])\n",
    "#     preds = to_float32(preds)\n",
    "#     loss = loss_class(preds, batch)\n",
    "#     avg_loss = loss[\"loss\"]\n",
    "#     avg_loss.backward()\n",
    "#     optimizer.step()\n",
    "#     optimizer.zero_grad()\n",
    "#     if not isinstance(lr_scheduler, float):\n",
    "#         lr_scheduler.step()\n",
    "from tqdm import tqdm\n",
    "\n",
    "# Assuming train_dataloader is a DataLoader object\n",
    "for idx, batch in tqdm(enumerate(train_dataloader), total=len(train_dataloader), desc=\"Training Progress\"):\n",
    "    model.to(device)\n",
    "    batch = [item.to(device) for item in batch]  \n",
    "    model.train()\n",
    "    preds = model(batch[0])\n",
    "    preds = to_float32(preds)\n",
    "    \n",
    "    loss = loss_class(preds, batch)\n",
    "    avg_loss = loss[\"loss\"]\n",
    "    \n",
    "    avg_loss.backward()\n",
    "    optimizer.step()\n",
    "    optimizer.zero_grad()\n",
    "    \n",
    "    if not isinstance(lr_scheduler, float):\n",
    "        lr_scheduler.step()\n"
   ]
  },
  {
   "cell_type": "code",
   "execution_count": 38,
   "metadata": {},
   "outputs": [],
   "source": [
    "model.eval()\n",
    "with torch.no_grad():\n",
    "    for idx, batch in enumerate(valid_dataloader):\n",
    "        batch = [item.to(device) for item in batch]  \n",
    "        preds = model(batch[0])\n",
    "        batch_numpy = []\n",
    "        for item in batch:\n",
    "            if isinstance(item, torch.Tensor):\n",
    "                batch_numpy.append(item.cpu().numpy())\n",
    "            else:\n",
    "                batch_numpy.append(item)\n",
    "        post_result = post_process_class(preds, batch_numpy[1])\n",
    "        break\n",
    "        "
   ]
  },
  {
   "cell_type": "code",
   "execution_count": 28,
   "metadata": {},
   "outputs": [
    {
     "data": {
      "text/plain": [
       "[{'points': array([[[   0,    0],\n",
       "          [1308,    0],\n",
       "          [1308,   92],\n",
       "          [   0,   92]]], dtype=int16)}]"
      ]
     },
     "execution_count": 28,
     "metadata": {},
     "output_type": "execute_result"
    }
   ],
   "source": [
    "post_result"
   ]
  },
  {
   "cell_type": "code",
   "execution_count": 52,
   "metadata": {},
   "outputs": [
    {
     "name": "stderr",
     "output_type": "stream",
     "text": [
      "Clipping input data to the valid range for imshow with RGB data ([0..1] for floats or [0..255] for integers).\n"
     ]
    },
    {
     "data": {
      "image/png": "[encoded data removed]",
      "text/plain": [
       "<Figure size 640x480 with 1 Axes>"
      ]
     },
     "metadata": {},
     "output_type": "display_data"
    }
   ],
   "source": [
    "plt.imshow(batch[0][0].cpu().numpy().transpose(1, 2, 0))\n",
    "img = batch[0][0].cpu().numpy().transpose(1, 2, 0)"
   ]
  },
  {
   "cell_type": "code",
   "execution_count": 59,
   "metadata": {},
   "outputs": [
    {
     "ename": "error",
     "evalue": "OpenCV(4.11.0-pre) :-1: error: (-5:Bad argument) in function 'polylines'\n> Overload resolution failed:\n>  - Layout of the output array img is incompatible with cv::Mat\n>  - Expected Ptr<cv::UMat> for argument 'img'\n",
     "output_type": "error",
     "traceback": [
      "\u001b[0;31m---------------------------------------------------------------------------\u001b[0m",
      "\u001b[0;31merror\u001b[0m                                     Traceback (most recent call last)",
      "Cell \u001b[0;32mIn[59], line 6\u001b[0m\n\u001b[1;32m      3\u001b[0m     pts \u001b[38;5;241m=\u001b[39m pts\u001b[38;5;241m.\u001b[39mreshape((\u001b[38;5;241m-\u001b[39m\u001b[38;5;241m1\u001b[39m, \u001b[38;5;241m1\u001b[39m, \u001b[38;5;241m2\u001b[39m))\n\u001b[1;32m      5\u001b[0m         \u001b[38;5;66;03m# Draw the bounding box on the image\u001b[39;00m\n\u001b[0;32m----> 6\u001b[0m     img \u001b[38;5;241m=\u001b[39m \u001b[43mcv2\u001b[49m\u001b[38;5;241;43m.\u001b[39;49m\u001b[43mpolylines\u001b[49m\u001b[43m(\u001b[49m\u001b[43mimg\u001b[49m\u001b[43m,\u001b[49m\u001b[43m \u001b[49m\u001b[43mpts\u001b[49m\u001b[43m,\u001b[49m\u001b[43m \u001b[49m\u001b[43misClosed\u001b[49m\u001b[38;5;241;43m=\u001b[39;49m\u001b[38;5;28;43;01mTrue\u001b[39;49;00m\u001b[43m,\u001b[49m\u001b[43m \u001b[49m\u001b[43mcolor\u001b[49m\u001b[38;5;241;43m=\u001b[39;49m\u001b[43m(\u001b[49m\u001b[38;5;241;43m255\u001b[39;49m\u001b[43m,\u001b[49m\u001b[43m \u001b[49m\u001b[38;5;241;43m0\u001b[39;49m\u001b[43m,\u001b[49m\u001b[43m \u001b[49m\u001b[38;5;241;43m0\u001b[39;49m\u001b[43m)\u001b[49m\u001b[43m,\u001b[49m\u001b[43m \u001b[49m\u001b[43mthickness\u001b[49m\u001b[38;5;241;43m=\u001b[39;49m\u001b[38;5;241;43m2\u001b[39;49m\u001b[43m)\u001b[49m\n\u001b[1;32m      7\u001b[0m plt\u001b[38;5;241m.\u001b[39mimshow(img)\n",
      "\u001b[0;31merror\u001b[0m: OpenCV(4.11.0-pre) :-1: error: (-5:Bad argument) in function 'polylines'\n> Overload resolution failed:\n>  - Layout of the output array img is incompatible with cv::Mat\n>  - Expected Ptr<cv::UMat> for argument 'img'\n"
     ]
    }
   ],
   "source": [
    "for point in post_result[0]['points']:\n",
    "    pts = np.array(point, dtype=np.int32)\n",
    "    pts = pts.reshape((-1, 1, 2))\n",
    "        \n",
    "        # Draw the bounding box on the image\n",
    "    img = cv2.polylines(img, [pts], isClosed=True, color=(255, 0, 0), thickness=2)\n",
    "plt.imshow(img)"
   ]
  },
  {
   "cell_type": "code",
   "execution_count": 61,
   "metadata": {},
   "outputs": [
    {
     "data": {
      "text/plain": [
       "array([[[419,  60]],\n",
       "\n",
       "       [[421,  60]],\n",
       "\n",
       "       [[421,  61]],\n",
       "\n",
       "       [[419,  61]]], dtype=int32)"
      ]
     },
     "execution_count": 61,
     "metadata": {},
     "output_type": "execute_result"
    }
   ],
   "source": [
    "pts"
   ]
  },
  {
   "cell_type": "code",
   "execution_count": 32,
   "metadata": {},
   "outputs": [],
   "source": [
    "state_dict = torch.load(\"/raid/project_drive/CV/ocr/kientdt/PaddleOCR2Pytorch/ch_ptocr_v3_det_infer_student.pth\")"
   ]
  },
  {
   "cell_type": "code",
   "execution_count": 37,
   "metadata": {},
   "outputs": [
    {
     "data": {
      "text/plain": [
       "<All keys matched successfully>"
      ]
     },
     "execution_count": 37,
     "metadata": {},
     "output_type": "execute_result"
    }
   ],
   "source": [
    "model.load_state_dict(state_dict)"
   ]
  }
 ],
 "metadata": {
  "kernelspec": {
   "display_name": "CV",
   "language": "python",
   "name": "cv"
  },
  "language_info": {
   "codemirror_mode": {
    "name": "ipython",
    "version": 3
   },
   "file_extension": ".py",
   "mimetype": "text/x-python",
   "name": "python",
   "nbconvert_exporter": "python",
   "pygments_lexer": "ipython3",
   "version": "3.9.21"
  }
 },
 "nbformat": 4,
 "nbformat_minor": 4
}
